{
 "cells": [
  {
   "cell_type": "markdown",
   "metadata": {},
   "source": [
    "# Tarefa 01\n",
    "\n",
    "- Leia os enunciados com atenção\n",
    "- Saiba que pode haver mais de uma resposta correta\n",
    "- Insira novas células de código sempre que achar necessário\n",
    "- Em caso de dúvidas, procure os tutores\n",
    "- Divirta-se :)\n",
    "\n",
    "#### 1)  crie uma série do pandas a partir de uma lista com os dados abaixo:\n",
    "\n",
    "Em um estudo sobre alteração na tempreatura global, A NASA disponibiliza dados de diferenças de de temperatura média da superfície terrestre relativos às médias de temperatura entre 1951 e 1980. Os dados originais podem ser vistos no site da NASA/GISS, e estão dispostos a cada década na tabela abaixo.\n",
    "\n",
    "|ano|anomalia termica|\n",
    "|:-:|:----:|\n",
    "| 1900 | -0.08 |\n",
    "| 1920 | -0.27 |\n",
    "| 1940 | 0.12 |\n",
    "| 1960 | -0.03 |\n",
    "| 1980 | 0.26 |\n",
    "| 2000 | 0.40 |\n",
    "| 2020 | 1.02 |\n",
    "\n",
    "Crie uma séries do Pandas a partir de uma lista com esses dados."
   ]
  },
  {
   "cell_type": "code",
   "execution_count": 16,
   "metadata": {},
   "outputs": [
    {
     "name": "stdout",
     "output_type": "stream",
     "text": [
      "A série do Pandas a partir da lista de dados da NASA, fica:\n",
      "0   -0.08\n",
      "1   -0.27\n",
      "2    0.12\n",
      "3   -0.03\n",
      "4    0.26\n",
      "5    0.40\n",
      "6    1.02\n",
      "dtype: float64\n"
     ]
    }
   ],
   "source": [
    "import pandas as pd\n",
    "import numpy as np\n",
    "\n",
    "#Primeiro, vamos criar a lista de dados:\n",
    "anomalia_termica_lista = [-0.08, -0.27, 0.12, -0.03, 0.26, 0.40, 1.02]\n",
    "\n",
    "#Agora, vamos criar a série a partir da lista:\n",
    "anomalia_termica_serie = pd.Series(anomalia_termica_lista)\n",
    "print(\"A série do Pandas a partir da lista de dados da NASA, fica:\\n\", anomalia_termica_serie, sep='')"
   ]
  },
  {
   "cell_type": "markdown",
   "metadata": {},
   "source": [
    "#### 2) Coloque os anos nos índices conforme a tabela."
   ]
  },
  {
   "cell_type": "code",
   "execution_count": 19,
   "metadata": {},
   "outputs": [
    {
     "name": "stdout",
     "output_type": "stream",
     "text": [
      "A série de dados da NASA com índices, fica:\n",
      "1900   -0.08\n",
      "1920   -0.27\n",
      "1940    0.12\n",
      "1960   -0.03\n",
      "1980    0.26\n",
      "2000    0.40\n",
      "2020    1.02\n",
      "dtype: float64\n"
     ]
    }
   ],
   "source": [
    "#Com a série já pronta, vamos criar uma lista com os anos como índices:\n",
    "anos_index = [1900, 1920, 1940, 1960, 1980, 2000, 2020]\n",
    "\n",
    "#Finalizando a série completa com índices:\n",
    "anomalia_termica_serie = pd.Series(anomalia_termica_lista,index=anos_index)\n",
    "print('A série de dados da NASA com índices, fica:\\n', anomalia_termica_serie, sep='')"
   ]
  },
  {
   "cell_type": "markdown",
   "metadata": {},
   "source": [
    "#### 3) A partir do dicionário abaixo, crie uma séries do Pandas:"
   ]
  },
  {
   "cell_type": "code",
   "execution_count": 21,
   "metadata": {},
   "outputs": [
    {
     "name": "stdout",
     "output_type": "stream",
     "text": [
      "A série fica:\n",
      "1900   -0.08\n",
      "1920   -0.27\n",
      "1940    0.12\n",
      "1960   -0.03\n",
      "1980    0.26\n",
      "2000    0.40\n",
      "2020    1.02\n",
      "dtype: float64\n"
     ]
    }
   ],
   "source": [
    "dic_temperaturas = {1900: -.08, 1920: -.27, 1940: .12, 1960: -.03, 1980: .26, 2000: .40, 2020: 1.02}\n",
    "\n",
    "#A partir do dicionário acima, vamos criar a série:\n",
    "serie_temperaturas = pd.Series(dic_temperaturas)\n",
    "\n",
    "print('A série fica:\\n',serie_temperaturas, sep='')"
   ]
  },
  {
   "cell_type": "markdown",
   "metadata": {},
   "source": [
    "#### 4) Transforme o ndarray abaixo em um dataframe. \n",
    "O numpy é capaz de gerar arrays n-dimensionais com números pseudo-aleatórios de acordo com uma variedade de distribuições, como no exemplo abaixo. Transforme esse nd-array em um DataFrame."
   ]
  },
  {
   "cell_type": "code",
   "execution_count": 23,
   "metadata": {},
   "outputs": [
    {
     "name": "stdout",
     "output_type": "stream",
     "text": [
      "O ndarray convertido em um DataFrame, fica:\n",
      "             0           1           2\n",
      "0    77.077295   99.766040  111.911936\n",
      "1   103.019439  115.026640   87.463789\n",
      "2   101.001891   83.842526  107.649663\n",
      "3   100.933114  116.875920   98.659958\n",
      "4   119.024113  105.653736   95.071500\n",
      "5    95.538617   79.152186   90.561165\n",
      "6    93.295282  106.014242  101.644674\n",
      "7    97.775523  103.306568   96.017906\n",
      "8   112.891944  101.594383   92.412883\n",
      "9   101.324072  102.485705   98.351583\n",
      "10  122.473260   84.650198  110.424582\n",
      "11  108.642153  112.012176  104.824624\n",
      "12  106.346285  111.475092   75.355193\n",
      "13   83.473678  108.438238  103.109465\n",
      "14  104.589090  116.545691   93.423501\n",
      "15  110.899561  104.401576   98.541411\n",
      "16   85.616827   96.389642  104.758460\n",
      "17   93.274064  103.153665   94.848131\n",
      "18   91.192240   96.044080  101.339692\n",
      "19  110.418593  120.032339  113.915447\n"
     ]
    }
   ],
   "source": [
    "arr = np.random.normal(100, 10, (20,3))\n",
    "\n",
    "#Convertendo o ndarray em um DataFrame:\n",
    "print('O ndarray convertido em um DataFrame, fica:\\n', pd.DataFrame(arr), sep='')\n"
   ]
  },
  {
   "cell_type": "markdown",
   "metadata": {},
   "source": [
    "#### 5) Nomeie os índices das linhas com inteiros de 1 a 20, e as colunas com os nomes \"x1\", \"x2\", e \"x3\" respectivamente."
   ]
  },
  {
   "cell_type": "code",
   "execution_count": 35,
   "metadata": {},
   "outputs": [
    {
     "name": "stdout",
     "output_type": "stream",
     "text": [
      "O DataFrame com as colunas nomeadas, fica:\n",
      "            x1          x2          x3\n",
      "1    77.077295   99.766040  111.911936\n",
      "2   103.019439  115.026640   87.463789\n",
      "3   101.001891   83.842526  107.649663\n",
      "4   100.933114  116.875920   98.659958\n",
      "5   119.024113  105.653736   95.071500\n",
      "6    95.538617   79.152186   90.561165\n",
      "7    93.295282  106.014242  101.644674\n",
      "8    97.775523  103.306568   96.017906\n",
      "9   112.891944  101.594383   92.412883\n",
      "10  101.324072  102.485705   98.351583\n",
      "11  122.473260   84.650198  110.424582\n",
      "12  108.642153  112.012176  104.824624\n",
      "13  106.346285  111.475092   75.355193\n",
      "14   83.473678  108.438238  103.109465\n",
      "15  104.589090  116.545691   93.423501\n",
      "16  110.899561  104.401576   98.541411\n",
      "17   85.616827   96.389642  104.758460\n",
      "18   93.274064  103.153665   94.848131\n",
      "19   91.192240   96.044080  101.339692\n",
      "20  110.418593  120.032339  113.915447\n"
     ]
    }
   ],
   "source": [
    "#Incluindo índices e nomes de colunas:\n",
    "df= pd.DataFrame(arr, \n",
    "                  index=range(1, 21), # Índices de 1 a 20\n",
    "                  columns=['x1', 'x2', 'x3']) # Nomes das colunas\n",
    "print('O DataFrame com as colunas nomeadas, fica:\\n', df, sep='')"
   ]
  },
  {
   "cell_type": "markdown",
   "metadata": {},
   "source": [
    "#### 6) No DataFrame do exercício 5, crie uma nova coluna como sendo a média das três colunas, e dê a ela o nome de \"media\" (não recomendo colocar acentos em nomes de variáveis)."
   ]
  },
  {
   "cell_type": "code",
   "execution_count": 38,
   "metadata": {},
   "outputs": [
    {
     "name": "stdout",
     "output_type": "stream",
     "text": [
      "O DataFrame com a coluna de média, fica:\n",
      "            x1          x2          x3       media\n",
      "1    77.077295   99.766040  111.911936   96.251757\n",
      "2   103.019439  115.026640   87.463789  101.836623\n",
      "3   101.001891   83.842526  107.649663   97.498026\n",
      "4   100.933114  116.875920   98.659958  105.489664\n",
      "5   119.024113  105.653736   95.071500  106.583116\n",
      "6    95.538617   79.152186   90.561165   88.417323\n",
      "7    93.295282  106.014242  101.644674  100.318066\n",
      "8    97.775523  103.306568   96.017906   99.033332\n",
      "9   112.891944  101.594383   92.412883  102.299737\n",
      "10  101.324072  102.485705   98.351583  100.720453\n",
      "11  122.473260   84.650198  110.424582  105.849346\n",
      "12  108.642153  112.012176  104.824624  108.492984\n",
      "13  106.346285  111.475092   75.355193   97.725523\n",
      "14   83.473678  108.438238  103.109465   98.340460\n",
      "15  104.589090  116.545691   93.423501  104.852760\n",
      "16  110.899561  104.401576   98.541411  104.614183\n",
      "17   85.616827   96.389642  104.758460   95.588310\n",
      "18   93.274064  103.153665   94.848131   97.091953\n",
      "19   91.192240   96.044080  101.339692   96.192004\n",
      "20  110.418593  120.032339  113.915447  114.788793\n"
     ]
    }
   ],
   "source": [
    "#Para garantir que a média será calculada independente da quantidade de colunas, vamos usar a função \"mean\":\n",
    "df['media'] = df.mean(axis=1) #O argumento axis=1 diz ao Pandas para calcular a média por linha\n",
    "print('O DataFrame com a coluna de média, fica:\\n', df, sep='')"
   ]
  },
  {
   "cell_type": "markdown",
   "metadata": {},
   "source": [
    "#### 7) No DataFrame do exercício 6, crie uma nova coluna chamada \"log_med\", contendo o logaritmo natural da média calculada no exercício 6 <br>"
   ]
  },
  {
   "cell_type": "code",
   "execution_count": 41,
   "metadata": {},
   "outputs": [
    {
     "name": "stdout",
     "output_type": "stream",
     "text": [
      "O DataFrame com a coluna de logaritmo natural, fica:\n",
      "            x1          x2          x3       media   log_med\n",
      "1    77.077295   99.766040  111.911936   96.251757  4.566967\n",
      "2   103.019439  115.026640   87.463789  101.836623  4.623370\n",
      "3   101.001891   83.842526  107.649663   97.498026  4.579832\n",
      "4   100.933114  116.875920   98.659958  105.489664  4.658613\n",
      "5   119.024113  105.653736   95.071500  106.583116  4.668925\n",
      "6    95.538617   79.152186   90.561165   88.417323  4.482068\n",
      "7    93.295282  106.014242  101.644674  100.318066  4.608346\n",
      "8    97.775523  103.306568   96.017906   99.033332  4.595456\n",
      "9   112.891944  101.594383   92.412883  102.299737  4.627907\n",
      "10  101.324072  102.485705   98.351583  100.720453  4.612349\n",
      "11  122.473260   84.650198  110.424582  105.849346  4.662017\n",
      "12  108.642153  112.012176  104.824624  108.492984  4.686686\n",
      "13  106.346285  111.475092   75.355193   97.725523  4.582163\n",
      "14   83.473678  108.438238  103.109465   98.340460  4.588436\n",
      "15  104.589090  116.545691   93.423501  104.852760  4.652557\n",
      "16  110.899561  104.401576   98.541411  104.614183  4.650279\n",
      "17   85.616827   96.389642  104.758460   95.588310  4.560051\n",
      "18   93.274064  103.153665   94.848131   97.091953  4.575659\n",
      "19   91.192240   96.044080  101.339692   96.192004  4.566346\n",
      "20  110.418593  120.032339  113.915447  114.788793  4.743094\n"
     ]
    }
   ],
   "source": [
    "# Cria a nova coluna 'log_med' com o logaritmo natural da coluna 'media'\n",
    "df['log_med'] = np.log(df['media'])\n",
    "\n",
    "print('O DataFrame com a coluna de logaritmo natural, fica:\\n', df, sep='')"
   ]
  },
  {
   "cell_type": "code",
   "execution_count": null,
   "metadata": {},
   "outputs": [],
   "source": []
  }
 ],
 "metadata": {
  "kernelspec": {
   "display_name": "Python [conda env:base] *",
   "language": "python",
   "name": "conda-base-py"
  },
  "language_info": {
   "codemirror_mode": {
    "name": "ipython",
    "version": 3
   },
   "file_extension": ".py",
   "mimetype": "text/x-python",
   "name": "python",
   "nbconvert_exporter": "python",
   "pygments_lexer": "ipython3",
   "version": "3.13.5"
  }
 },
 "nbformat": 4,
 "nbformat_minor": 4
}
