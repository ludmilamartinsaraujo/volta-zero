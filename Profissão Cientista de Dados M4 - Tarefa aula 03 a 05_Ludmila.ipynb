{
 "cells": [
  {
   "cell_type": "markdown",
   "metadata": {},
   "source": [
    "## Exercício 1: Vestibular\n",
    "\n",
    "Considere que a os dados gerados na célula abaixo contêm o número de acertos de 100 alunos em um vestibular para um curso de exatas, divididas pelos respectivos assuntos. Considere que cada assunto possui um número de questões conforme a tabela abaixo:\n",
    "\n",
    "| assunto | número de questões |\n",
    "|:---:|:---:|\n",
    "| Matemática | 24 |\n",
    "| Português | 18 |\n",
    "| Geografia | 8 |\n",
    "| Inglês | 8 |\n",
    "| História | 8 |\n",
    "| Física | 12 |\n",
    "| Química | 12 |\n",
    "\n",
    "Usando os comandos de operações com DataFrames que você aprendeu na Aula 03, calcule:\n",
    "\n",
    "1. (operações com escalar) Calcule o percentual de acerto dos alunos por assunto.  \n",
    "2. (operações entre *DataFrames) Calcule o total de acertos de cada aluno.  \n",
    "3. Calcule o porcentual geral de cada aluno.  \n",
    "4. Suponha que a nota de corte para a segunda fase seja 45. Quantos alunos tiveram nota maior que 45?  "
   ]
  },
  {
   "cell_type": "code",
   "execution_count": 194,
   "metadata": {},
   "outputs": [],
   "source": [
    "import pandas as pd\n",
    "import numpy as np\n",
    "\n",
    "np.random.seed(42)\n",
    "df_mat = pd.DataFrame(np.random.randint(24, size=(100, 1)), columns=['Qt_acertos'])\n",
    "\n",
    "df_por = pd.DataFrame(np.random.randint(18, size=(100, 1)), columns=['Qt_acertos'])\n",
    "\n",
    "df_geo = pd.DataFrame(np.random.randint(8, size=(100, 1)), columns=['Qt_acertos'])\n",
    "\n",
    "df_ing = pd.DataFrame(np.random.randint(8, size=(100, 1)), columns=['Qt_acertos'])\n",
    "\n",
    "df_his = pd.DataFrame(np.random.randint(8, size=(100, 1)), columns=['Qt_acertos'])\n",
    "\n",
    "df_fis = pd.DataFrame(np.random.randint(12, size=(100, 1)), columns=['Qt_acertos'])\n",
    "\n",
    "df_qui = pd.DataFrame(np.random.randint(12, size=(100, 1)), columns=['Qt_acertos'])"
   ]
  },
  {
   "cell_type": "code",
   "execution_count": 195,
   "metadata": {},
   "outputs": [
    {
     "name": "stdout",
     "output_type": "stream",
     "text": [
      "\n",
      " Porcentagem de acertos para Matemática\n",
      "  Qt_acertos\n",
      "0      25.0%\n",
      "1     79.17%\n",
      "2     58.33%\n",
      "3     41.67%\n",
      "4     29.17%\n",
      "\n",
      " Porcentagem de acertos para Português\n",
      "  Qt_acertos\n",
      "0     38.89%\n",
      "1     55.56%\n",
      "2     88.89%\n",
      "3     38.89%\n",
      "4     11.11%\n",
      "\n",
      " Porcentagem de acertos para Geografia\n",
      "  Qt_acertos\n",
      "0      87.5%\n",
      "1       0.0%\n",
      "2       0.0%\n",
      "3      37.5%\n",
      "4      25.0%\n",
      "\n",
      " Porcentagem de acertos para Inglês\n",
      "  Qt_acertos\n",
      "0      37.5%\n",
      "1       0.0%\n",
      "2      62.5%\n",
      "3      50.0%\n",
      "4      87.5%\n",
      "\n",
      " Porcentagem de acertos para História\n",
      "  Qt_acertos\n",
      "0      12.5%\n",
      "1       0.0%\n",
      "2      87.5%\n",
      "3       0.0%\n",
      "4       0.0%\n",
      "\n",
      " Porcentagem de acertos para Física\n",
      "  Qt_acertos\n",
      "0     66.67%\n",
      "1     91.67%\n",
      "2     33.33%\n",
      "3       0.0%\n",
      "4      75.0%\n",
      "\n",
      " Porcentagem de acertos para Química\n",
      "  Qt_acertos\n",
      "0      25.0%\n",
      "1     66.67%\n",
      "2     33.33%\n",
      "3     66.67%\n",
      "4      25.0%\n"
     ]
    }
   ],
   "source": [
    "# 1) Acertos por disciplina:\n",
    "acertos_mat = df_mat / 24\n",
    "acertos_por = df_por / 18\n",
    "acertos_geo = df_geo /  8\n",
    "acertos_ing = df_ing /  8\n",
    "acertos_his = df_his /  8\n",
    "acertos_fis = df_fis /  12\n",
    "acertos_qui = df_qui /  12\n",
    "\n",
    "# Criando um dicionário com os resultados\n",
    "resultados = {\n",
    "    \"Matemática\": acertos_mat,\n",
    "    \"Português\": acertos_por,\n",
    "    \"Geografia\": acertos_geo,\n",
    "    \"Inglês\": acertos_ing,\n",
    "    \"História\": acertos_his,\n",
    "    \"Física\": acertos_fis,\n",
    "    \"Química\": acertos_qui\n",
    "}\n",
    "\n",
    "# Imprimir os resultados formatados em porcentagem\n",
    "for disciplina, df_acertos in resultados.items():\n",
    "    df_formatado = (df_acertos * 100).round(2).astype(str) + '%'\n",
    "    \n",
    "    print(f\"\\n Porcentagem de acertos para {disciplina}\")\n",
    "    print(df_formatado.head()) #Imprimindo apenas os 5 primeiros resultados"
   ]
  },
  {
   "cell_type": "code",
   "execution_count": 196,
   "metadata": {},
   "outputs": [
    {
     "name": "stdout",
     "output_type": "stream",
     "text": [
      "          Qt_acertos\n",
      "aluno1            35\n",
      "aluno2            48\n",
      "aluno3            50\n",
      "aluno4            32\n",
      "aluno5            30\n",
      "...              ...\n",
      "aluno96           34\n",
      "aluno97           27\n",
      "aluno98           40\n",
      "aluno99           40\n",
      "aluno100          42\n",
      "\n",
      "[100 rows x 1 columns]\n"
     ]
    }
   ],
   "source": [
    "# 2) Somando os dataframes de cada disciplina por aluno\n",
    "total = df_mat + df_por + df_geo + df_ing + df_his + df_fis + df_qui\n",
    "\n",
    "# Criando uma lista de 100 nomes para as linhas não ficarem tão genéricas\n",
    "nomes_dos_alunos = [f'aluno{i+1}' for i in range(100)]\n",
    "\n",
    "# Atribuindo a lista de nomes ao índice do DataFrame 'total'\n",
    "total.index = nomes_dos_alunos\n",
    "\n",
    "# Renomeando a coluna para ser mais descritiva\n",
    "total.columns = ['Qt_acertos']\n",
    "\n",
    "print(total)"
   ]
  },
  {
   "cell_type": "code",
   "execution_count": 197,
   "metadata": {},
   "outputs": [
    {
     "name": "stdout",
     "output_type": "stream",
     "text": [
      "O total de questões é: 90\n",
      "O percentual de acertos de cada aluno é:\n",
      "           Qt_acertos\n",
      "aluno1      0.388889\n",
      "aluno2      0.533333\n",
      "aluno3      0.555556\n",
      "aluno4      0.355556\n",
      "aluno5      0.333333\n",
      "...              ...\n",
      "aluno96     0.377778\n",
      "aluno97     0.300000\n",
      "aluno98     0.444444\n",
      "aluno99     0.444444\n",
      "aluno100    0.466667\n",
      "\n",
      "[100 rows x 1 columns]\n"
     ]
    }
   ],
   "source": [
    "# 3) Vamos somar o total de questões\n",
    "total_questoes = {\n",
    "    'Matemática': 24,\n",
    "    'Português': 18,\n",
    "    'Geografia': 8,\n",
    "    'Inglês': 8,\n",
    "    'História': 8,\n",
    "    'Física': 12,\n",
    "    'Química': 12\n",
    "}\n",
    "\n",
    "soma_questoes = sum(total_questoes.values())\n",
    "\n",
    "print(f\"O total de questões é: {soma_questoes}\")\n",
    "\n",
    "#Agora, vamos calcular o percentual de acertos de cada aluno\n",
    "percentual_total = total/soma_questoes\n",
    "\n",
    "# Renomeando a coluna para ser mais descritiva\n",
    "percentual_total.columns = ['Qt_acertos']\n",
    "\n",
    "print(f\"O percentual de acertos de cada aluno é:\\n {percentual_total}\")"
   ]
  },
  {
   "cell_type": "code",
   "execution_count": 198,
   "metadata": {},
   "outputs": [
    {
     "name": "stdout",
     "output_type": "stream",
     "text": [
      "A quantidade de alunos que acertaram mais de 45 questões é: 31.\n"
     ]
    }
   ],
   "source": [
    "# 4) Vamos usar o booleano nesta contagem\n",
    "acertos_45 = total[total['Qt_acertos'] > 45]\n",
    "aprovados = len(acertos_45)\n",
    "print(f\"A quantidade de alunos que acertaram mais de 45 questões é: {aprovados}.\")"
   ]
  },
  {
   "cell_type": "markdown",
   "metadata": {},
   "source": [
    "## 2) Vestibular II\n",
    "\n",
    "Ainda sobre o mesmo banco de dados:\n",
    "\n",
    "1. Neste vestibular, quem 'zera' em matemática, física ou química está desqualificado. Monte um novo *DataFrame* com os alunos desqualificados por este critério.\n",
    "2. Quantos são esses alunos?\n",
    "3. Qual a média desses alunos em história e geografia?\n",
    "4. Monte um *DataFrame* com os alunos que passaram para a segunda fase. Repare que estes alunos não podem ter sido desqualificados."
   ]
  },
  {
   "cell_type": "code",
   "execution_count": 199,
   "metadata": {},
   "outputs": [
    {
     "name": "stdout",
     "output_type": "stream",
     "text": [
      "         Qt_acertos\n",
      "aluno4           32\n",
      "aluno7           29\n",
      "aluno11          31\n",
      "aluno13          42\n",
      "aluno15          31\n",
      "aluno21          53\n",
      "aluno26          27\n",
      "aluno27          40\n",
      "aluno28          50\n",
      "aluno34          39\n",
      "aluno36          48\n",
      "aluno50          19\n",
      "aluno57          39\n",
      "aluno66          24\n",
      "aluno67          31\n",
      "aluno73          50\n",
      "aluno74          37\n",
      "aluno75          39\n",
      "aluno85          26\n",
      "aluno90          63\n",
      "aluno93          40\n",
      "aluno95          25\n",
      "aluno99          40\n"
     ]
    }
   ],
   "source": [
    "# Sincronizando os índices dos DataFrames individuais com o do DataFrame 'total'\n",
    "df_mat.index = total.index\n",
    "df_fis.index = total.index\n",
    "df_qui.index = total.index\n",
    "\n",
    "# Separando os alunos que zeraram matemática, física e química:\n",
    "df_eliminados = total[\n",
    "    (df_mat['Qt_acertos'] == 0) | \n",
    "    (df_fis['Qt_acertos'] == 0) | \n",
    "    (df_qui['Qt_acertos'] == 0)\n",
    "]\n",
    "\n",
    "print(df_eliminados)\n"
   ]
  },
  {
   "cell_type": "code",
   "execution_count": 200,
   "metadata": {},
   "outputs": [
    {
     "name": "stdout",
     "output_type": "stream",
     "text": [
      "A quantidade de alunos que foram eliminados é: 23.\n"
     ]
    }
   ],
   "source": [
    "# Contagem de alunos eliminados\n",
    "qt_eliminados = len(df_eliminados)\n",
    "print(f\"A quantidade de alunos que foram eliminados é: {qt_eliminados}.\")"
   ]
  },
  {
   "cell_type": "code",
   "execution_count": 201,
   "metadata": {},
   "outputs": [
    {
     "name": "stdout",
     "output_type": "stream",
     "text": [
      "A média de acertos em História dos alunos eliminados é: Qt_acertos    3.434783\n",
      "dtype: float64\n",
      "A média de acertos em Geografia dos alunos eliminados é: Qt_acertos    3.217391\n",
      "dtype: float64\n"
     ]
    }
   ],
   "source": [
    "# Sincronizando os índices dos DataFrames individuais com o do DataFrame 'total'\n",
    "df_his.index = total.index\n",
    "df_geo.index = total.index\n",
    "\n",
    "# Para calcular a média dos alunos eliminados em história e geografia, vamos primeiro separar as notas dessas disciplinas dos alunos eliminados\n",
    "acertos_historia_eliminados = df_his.loc[df_eliminados.index]\n",
    "acertos_geografia_eliminados = df_geo.loc[df_eliminados.index]\n",
    "\n",
    "# Agora, vamos calcular a média dos acertos para cada disciplina usando o mean\n",
    "media_historia = acertos_historia_eliminados.mean()\n",
    "media_geografia = acertos_geografia_eliminados.mean()\n",
    "\n",
    "print(f\"A média de acertos em História dos alunos eliminados é: {media_historia}\")\n",
    "print(f\"A média de acertos em Geografia dos alunos eliminados é: {media_geografia}\")"
   ]
  },
  {
   "cell_type": "code",
   "execution_count": 202,
   "metadata": {},
   "outputs": [
    {
     "name": "stdout",
     "output_type": "stream",
     "text": [
      "Os alunos que poderão fazer a segunda fase são:\n",
      "         Qt_acertos\n",
      "aluno2           48\n",
      "aluno3           50\n",
      "aluno6           50\n",
      "aluno8           49\n",
      "aluno9           58\n",
      "aluno18          52\n",
      "aluno19          50\n",
      "aluno25          50\n",
      "aluno32          54\n",
      "aluno37          56\n",
      "aluno38          52\n",
      "aluno40          49\n",
      "aluno41          47\n",
      "aluno43          48\n",
      "aluno46          48\n",
      "aluno49          55\n",
      "aluno61          48\n",
      "aluno63          46\n",
      "aluno68          46\n",
      "aluno71          62\n",
      "aluno72          53\n",
      "aluno78          53\n",
      "aluno79          66\n",
      "aluno82          55\n",
      "aluno89          50\n",
      "aluno94          56\n"
     ]
    }
   ],
   "source": [
    "# Sincronizando os índices dos DataFrames individuais com o do DataFrame 'total'\n",
    "df_mat.index = total.index\n",
    "df_fis.index = total.index\n",
    "df_qui.index = total.index\n",
    "\n",
    "# Para o DataFrame com os alunos que passaram para a segunda fase, temos 2 critérios:\n",
    "# 1) Mais de 45 acertos\n",
    "acertos_45 = total['Qt_acertos'] > 45\n",
    "\n",
    "# 2) Não ter zerado matemática, química e física\n",
    "nao_desqualificados = ~((df_mat['Qt_acertos'] == 0) | \n",
    "                        (df_fis['Qt_acertos'] == 0) | \n",
    "                        (df_qui['Qt_acertos'] == 0))\n",
    "\n",
    "# Unindo as duas condições:\n",
    "df_segunda_fase = total[acertos_45 & nao_desqualificados]\n",
    "\n",
    "print(f\"Os alunos que poderão fazer a segunda fase são:\\n{df_segunda_fase}\")\n"
   ]
  },
  {
   "cell_type": "markdown",
   "metadata": {},
   "source": [
    "## 3) Vacinações no Acre\n",
    "Vamos trabalhar agora com a base de vacinações no Acre. Para facilitar a sua vida, copiamos o link do arquivo na célula abaixo.\n",
    "\n",
    "1. Quantas vacinas estão registradas nessa base?  \n",
    "2. Quantos pacientes foram vacinados? (considere um paciente para cada valor único de ```paciente_id```)  \n",
    "3. Quantos pacientes únicos tomaram a primeira dose? OBS: Há um caractere especial neste campo. Receba os valores do campo com o método ```.unique()```.   \n",
    "4. Quantos pacientes com menos de 18 anos foram vacinados?  \n",
    "5. Quantos estabelecimentos aplicaram vacina no Acre?\n",
    "\n",
    "\n",
    "**OBS:** O portal do DATASUS pode apresentar instabilidades, retornando um erro na segunda célula abaixo. Por este motivo está disponível uma base estática, que se for baixada para o seu *working directory* pode ser lida com este comando: ```df = pd.read_csv('registros de vacinacao covid ACRE.csv', sep=';')```.\n",
    "\n",
    "**OBS2:** Para saber qual é o seu working directory, rode no jupyter: ```!pwd```."
   ]
  },
  {
   "cell_type": "code",
   "execution_count": 203,
   "metadata": {},
   "outputs": [],
   "source": [
    "path = 'vacinacao_acre.csv'"
   ]
  },
  {
   "cell_type": "code",
   "execution_count": 204,
   "metadata": {},
   "outputs": [
    {
     "data": {
      "text/html": [
       "<div>\n",
       "<style scoped>\n",
       "    .dataframe tbody tr th:only-of-type {\n",
       "        vertical-align: middle;\n",
       "    }\n",
       "\n",
       "    .dataframe tbody tr th {\n",
       "        vertical-align: top;\n",
       "    }\n",
       "\n",
       "    .dataframe thead th {\n",
       "        text-align: right;\n",
       "    }\n",
       "</style>\n",
       "<table border=\"1\" class=\"dataframe\">\n",
       "  <thead>\n",
       "    <tr style=\"text-align: right;\">\n",
       "      <th></th>\n",
       "      <th>document_id</th>\n",
       "      <th>paciente_id</th>\n",
       "      <th>paciente_idade</th>\n",
       "      <th>paciente_dataNascimento</th>\n",
       "      <th>paciente_enumSexoBiologico</th>\n",
       "      <th>paciente_racaCor_codigo</th>\n",
       "      <th>paciente_racaCor_valor</th>\n",
       "      <th>paciente_endereco_coIbgeMunicipio</th>\n",
       "      <th>paciente_endereco_coPais</th>\n",
       "      <th>paciente_endereco_nmMunicipio</th>\n",
       "      <th>...</th>\n",
       "      <th>vacina_categoria_codigo</th>\n",
       "      <th>vacina_categoria_nome</th>\n",
       "      <th>vacina_lote</th>\n",
       "      <th>vacina_fabricante_nome</th>\n",
       "      <th>vacina_fabricante_referencia</th>\n",
       "      <th>vacina_dataAplicacao</th>\n",
       "      <th>vacina_descricao_dose</th>\n",
       "      <th>vacina_codigo</th>\n",
       "      <th>vacina_nome</th>\n",
       "      <th>sistema_origem</th>\n",
       "    </tr>\n",
       "  </thead>\n",
       "  <tbody>\n",
       "    <tr>\n",
       "      <th>0</th>\n",
       "      <td>a9999721-43c0-422e-ae5c-1cc2d4cfe07e-i0b0</td>\n",
       "      <td>0a6fa8fc037435e78d5476f4995fc25bb1c716cc370676...</td>\n",
       "      <td>27</td>\n",
       "      <td>1993-08-16</td>\n",
       "      <td>M</td>\n",
       "      <td>3</td>\n",
       "      <td>PARDA</td>\n",
       "      <td>120033.0</td>\n",
       "      <td>10.0</td>\n",
       "      <td>MANCIO LIMA</td>\n",
       "      <td>...</td>\n",
       "      <td>2.0</td>\n",
       "      <td>Faixa Etária</td>\n",
       "      <td>216VCD203Z</td>\n",
       "      <td>ASTRAZENECA/FIOCRUZ</td>\n",
       "      <td>Organization/33781055000135</td>\n",
       "      <td>2021-08-05</td>\n",
       "      <td>1ª Dose</td>\n",
       "      <td>85</td>\n",
       "      <td>COVID-19 ASTRAZENECA/FIOCRUZ - COVISHIELD</td>\n",
       "      <td>Novo PNI</td>\n",
       "    </tr>\n",
       "    <tr>\n",
       "      <th>1</th>\n",
       "      <td>fad14228-9e6e-4895-8dd5-d590bceaa136-i0b0</td>\n",
       "      <td>9f7c6a218929e7cd3763aaf6174b3bd104a79d5f9fb796...</td>\n",
       "      <td>16</td>\n",
       "      <td>2005-06-27</td>\n",
       "      <td>M</td>\n",
       "      <td>99</td>\n",
       "      <td>SEM INFORMACAO</td>\n",
       "      <td>120040.0</td>\n",
       "      <td>10.0</td>\n",
       "      <td>RIO BRANCO</td>\n",
       "      <td>...</td>\n",
       "      <td>2.0</td>\n",
       "      <td>Faixa Etária</td>\n",
       "      <td>FD7221</td>\n",
       "      <td>PFIZER</td>\n",
       "      <td>Organization/00394544000851</td>\n",
       "      <td>2021-08-13</td>\n",
       "      <td>1ª Dose</td>\n",
       "      <td>87</td>\n",
       "      <td>COVID-19 PFIZER - COMIRNATY</td>\n",
       "      <td>Novo PNI</td>\n",
       "    </tr>\n",
       "    <tr>\n",
       "      <th>2</th>\n",
       "      <td>db58f53d-8f33-42a6-8829-0abe00389a73-i0b0</td>\n",
       "      <td>05e7be6e9ef6b7666ff8d28eddf6d7f76154860dcce2b7...</td>\n",
       "      <td>62</td>\n",
       "      <td>1959-11-08</td>\n",
       "      <td>M</td>\n",
       "      <td>3</td>\n",
       "      <td>PARDA</td>\n",
       "      <td>110028.0</td>\n",
       "      <td>10.0</td>\n",
       "      <td>ROLIM DE MOURA</td>\n",
       "      <td>...</td>\n",
       "      <td>2.0</td>\n",
       "      <td>Faixa Etária</td>\n",
       "      <td>32010BD</td>\n",
       "      <td>PFIZER</td>\n",
       "      <td>Organization/28290</td>\n",
       "      <td>2021-12-17</td>\n",
       "      <td>Reforço</td>\n",
       "      <td>87</td>\n",
       "      <td>COVID-19 PFIZER - COMIRNATY</td>\n",
       "      <td>Novo PNI</td>\n",
       "    </tr>\n",
       "    <tr>\n",
       "      <th>3</th>\n",
       "      <td>fadbea84-381c-4e84-920c-fdd146d96744-i0b0</td>\n",
       "      <td>59ea685f572ee8be8c48fef8962167a2b96ab5627613a2...</td>\n",
       "      <td>30</td>\n",
       "      <td>1993-11-30</td>\n",
       "      <td>F</td>\n",
       "      <td>3</td>\n",
       "      <td>PARDA</td>\n",
       "      <td>120040.0</td>\n",
       "      <td>10.0</td>\n",
       "      <td>RIO BRANCO</td>\n",
       "      <td>...</td>\n",
       "      <td>21.0</td>\n",
       "      <td>Gestantes</td>\n",
       "      <td>230165</td>\n",
       "      <td>BUTANTAN</td>\n",
       "      <td>152</td>\n",
       "      <td>2024-03-05</td>\n",
       "      <td>Única</td>\n",
       "      <td>33</td>\n",
       "      <td>INF3</td>\n",
       "      <td>Novo PNI</td>\n",
       "    </tr>\n",
       "    <tr>\n",
       "      <th>4</th>\n",
       "      <td>e9b5c1d8-471f-400c-9c3b-2db45ce4b1be-i0b0</td>\n",
       "      <td>1b5a54c96f4fef5ba65535e12cb92502e98f7bd96a31a1...</td>\n",
       "      <td>39</td>\n",
       "      <td>1983-05-08</td>\n",
       "      <td>F</td>\n",
       "      <td>4</td>\n",
       "      <td>AMARELA</td>\n",
       "      <td>120040.0</td>\n",
       "      <td>10.0</td>\n",
       "      <td>RIO BRANCO</td>\n",
       "      <td>...</td>\n",
       "      <td>9.0</td>\n",
       "      <td>Trabalhadores de Saúde</td>\n",
       "      <td>212J21A</td>\n",
       "      <td>JANSSEN</td>\n",
       "      <td>30587</td>\n",
       "      <td>2022-06-14</td>\n",
       "      <td>Dose Adicional</td>\n",
       "      <td>88</td>\n",
       "      <td>COVID-19 JANSSEN - Ad26.COV2.S</td>\n",
       "      <td>Novo PNI</td>\n",
       "    </tr>\n",
       "  </tbody>\n",
       "</table>\n",
       "<p>5 rows × 32 columns</p>\n",
       "</div>"
      ],
      "text/plain": [
       "                                 document_id  \\\n",
       "0  a9999721-43c0-422e-ae5c-1cc2d4cfe07e-i0b0   \n",
       "1  fad14228-9e6e-4895-8dd5-d590bceaa136-i0b0   \n",
       "2  db58f53d-8f33-42a6-8829-0abe00389a73-i0b0   \n",
       "3  fadbea84-381c-4e84-920c-fdd146d96744-i0b0   \n",
       "4  e9b5c1d8-471f-400c-9c3b-2db45ce4b1be-i0b0   \n",
       "\n",
       "                                         paciente_id  paciente_idade  \\\n",
       "0  0a6fa8fc037435e78d5476f4995fc25bb1c716cc370676...              27   \n",
       "1  9f7c6a218929e7cd3763aaf6174b3bd104a79d5f9fb796...              16   \n",
       "2  05e7be6e9ef6b7666ff8d28eddf6d7f76154860dcce2b7...              62   \n",
       "3  59ea685f572ee8be8c48fef8962167a2b96ab5627613a2...              30   \n",
       "4  1b5a54c96f4fef5ba65535e12cb92502e98f7bd96a31a1...              39   \n",
       "\n",
       "  paciente_dataNascimento paciente_enumSexoBiologico  paciente_racaCor_codigo  \\\n",
       "0              1993-08-16                          M                        3   \n",
       "1              2005-06-27                          M                       99   \n",
       "2              1959-11-08                          M                        3   \n",
       "3              1993-11-30                          F                        3   \n",
       "4              1983-05-08                          F                        4   \n",
       "\n",
       "  paciente_racaCor_valor  paciente_endereco_coIbgeMunicipio  \\\n",
       "0                  PARDA                           120033.0   \n",
       "1         SEM INFORMACAO                           120040.0   \n",
       "2                  PARDA                           110028.0   \n",
       "3                  PARDA                           120040.0   \n",
       "4                AMARELA                           120040.0   \n",
       "\n",
       "   paciente_endereco_coPais paciente_endereco_nmMunicipio  ...  \\\n",
       "0                      10.0                   MANCIO LIMA  ...   \n",
       "1                      10.0                    RIO BRANCO  ...   \n",
       "2                      10.0                ROLIM DE MOURA  ...   \n",
       "3                      10.0                    RIO BRANCO  ...   \n",
       "4                      10.0                    RIO BRANCO  ...   \n",
       "\n",
       "  vacina_categoria_codigo   vacina_categoria_nome  vacina_lote  \\\n",
       "0                     2.0            Faixa Etária   216VCD203Z   \n",
       "1                     2.0            Faixa Etária       FD7221   \n",
       "2                     2.0            Faixa Etária      32010BD   \n",
       "3                    21.0               Gestantes       230165   \n",
       "4                     9.0  Trabalhadores de Saúde      212J21A   \n",
       "\n",
       "  vacina_fabricante_nome  vacina_fabricante_referencia vacina_dataAplicacao  \\\n",
       "0    ASTRAZENECA/FIOCRUZ   Organization/33781055000135           2021-08-05   \n",
       "1                 PFIZER   Organization/00394544000851           2021-08-13   \n",
       "2                 PFIZER            Organization/28290           2021-12-17   \n",
       "3               BUTANTAN                           152           2024-03-05   \n",
       "4                JANSSEN                         30587           2022-06-14   \n",
       "\n",
       "  vacina_descricao_dose  vacina_codigo  \\\n",
       "0               1ª Dose             85   \n",
       "1               1ª Dose             87   \n",
       "2               Reforço             87   \n",
       "3                 Única             33   \n",
       "4        Dose Adicional             88   \n",
       "\n",
       "                                 vacina_nome sistema_origem  \n",
       "0  COVID-19 ASTRAZENECA/FIOCRUZ - COVISHIELD       Novo PNI  \n",
       "1                COVID-19 PFIZER - COMIRNATY       Novo PNI  \n",
       "2                COVID-19 PFIZER - COMIRNATY       Novo PNI  \n",
       "3                                       INF3       Novo PNI  \n",
       "4             COVID-19 JANSSEN - Ad26.COV2.S       Novo PNI  \n",
       "\n",
       "[5 rows x 32 columns]"
      ]
     },
     "execution_count": 204,
     "metadata": {},
     "output_type": "execute_result"
    }
   ],
   "source": [
    "# 1) \n",
    "df = pd.read_csv(path, sep=';')\n",
    "df.head()\n"
   ]
  },
  {
   "cell_type": "code",
   "execution_count": 205,
   "metadata": {},
   "outputs": [
    {
     "name": "stdout",
     "output_type": "stream",
     "text": [
      "A quantidade de vacinas registradas é: 390911\n"
     ]
    }
   ],
   "source": [
    "print(f'A quantidade de vacinas registradas é: {df.shape[0]}')"
   ]
  },
  {
   "cell_type": "code",
   "execution_count": 206,
   "metadata": {},
   "outputs": [
    {
     "name": "stdout",
     "output_type": "stream",
     "text": [
      "A quantidade de pacientes vacinados é: 318850\n"
     ]
    }
   ],
   "source": [
    "# 2) \n",
    "print(f'A quantidade de pacientes vacinados é: {df['paciente_id'].nunique()}')"
   ]
  },
  {
   "cell_type": "code",
   "execution_count": 207,
   "metadata": {},
   "outputs": [
    {
     "name": "stdout",
     "output_type": "stream",
     "text": [
      "O número de pacientes únicos que tomaram a primeira dose é: 143753\n"
     ]
    }
   ],
   "source": [
    "# 3) \n",
    "# Pegando todos os valores únicos na coluna\n",
    "primeira_dose = df['vacina_descricao_dose'].unique()[0]\n",
    "\n",
    "# Aqui, o DataFrame é filtrado para incluir apenas as linhas onde a descrição da dose é exatamente 1ª Dose\n",
    "print(f'O número de pacientes únicos que tomaram a primeira dose é: {df['paciente_id'].loc[df['vacina_descricao_dose'] == primeira_dose].nunique()}')\n"
   ]
  },
  {
   "cell_type": "code",
   "execution_count": 208,
   "metadata": {},
   "outputs": [
    {
     "name": "stdout",
     "output_type": "stream",
     "text": [
      "A quantidade de pacientes menores de idade vacinados é: 69726\n"
     ]
    }
   ],
   "source": [
    "# 4) Usando o booleano:\n",
    "df_menor = df[df[\"paciente_idade\"]<18]\n",
    "print(f'A quantidade de pacientes menores de idade vacinados é: {df_menor18['paciente_id'].nunique()}')"
   ]
  },
  {
   "cell_type": "code",
   "execution_count": 209,
   "metadata": {},
   "outputs": [
    {
     "name": "stdout",
     "output_type": "stream",
     "text": [
      "Quantidade de estabelecimentos que aplicaram vacina no Acre: 15\n"
     ]
    }
   ],
   "source": [
    "# 5) Pegando todos os valores únicos na respectiva coluna\n",
    "print(f'Quantidade de estabelecimentos que aplicaram vacina no Acre: {df['vacina_nome'].nunique()}')"
   ]
  },
  {
   "cell_type": "markdown",
   "metadata": {},
   "source": [
    "## 4) Vacinação II\n",
    "Gere um *DataFrame* que contenha somente os estabelecimentos que aplicaram vcinas a menores de 18 anos. Nesse *DataFrame* devem conter somente os dados dos estabelecimentos, mais uma coluna sendo a quantidade de vacinas que o estabelecimento aplicou a menores de 18 anos.  \n",
    "  \n",
    "1. crie uma cópia do *DataFrame* original, contendo somente os registros de vacinas realizadas a menores de 18 anos.  \n",
    "2. crie uma lista das colunas desse *DataFrame* com o atributo de *DataFrame* **.columns()**  \n",
    "3. Nesse *DataFrame* faça uma contagem do campo ```vacina_categoria_nome```.\n",
    "3. a partir da lista de colunas, escolha somente aquelas que são referentes ao estabelecimento, faça uma lista com esses valores.  \n",
    "4. usando o método *.loc*, selecione somente essas variáveis  \n",
    "5. Aplique o método **.drop_duplicates** e crie uma lista com uma linha para cada estabelecimento, com os dados do estabelecimento  "
   ]
  },
  {
   "cell_type": "code",
   "execution_count": 210,
   "metadata": {},
   "outputs": [],
   "source": [
    "# 1) Criando uma cópia do DataFrame original com registros de menores de 18 anos\n",
    "df_menor = df[df[\"paciente_idade\"]<18].copy()"
   ]
  },
  {
   "cell_type": "code",
   "execution_count": 211,
   "metadata": {},
   "outputs": [
    {
     "data": {
      "text/plain": [
       "Index(['document_id', 'paciente_id', 'paciente_idade',\n",
       "       'paciente_dataNascimento', 'paciente_enumSexoBiologico',\n",
       "       'paciente_racaCor_codigo', 'paciente_racaCor_valor',\n",
       "       'paciente_endereco_coIbgeMunicipio', 'paciente_endereco_coPais',\n",
       "       'paciente_endereco_nmMunicipio', 'paciente_endereco_nmPais',\n",
       "       'paciente_endereco_uf', 'paciente_endereco_cep',\n",
       "       'paciente_nacionalidade_enumNacionalidade', 'estabelecimento_valor',\n",
       "       'estabelecimento_razaoSocial', 'estalecimento_noFantasia',\n",
       "       'estabelecimento_municipio_codigo', 'estabelecimento_municipio_nome',\n",
       "       'estabelecimento_uf', 'vacina_grupoAtendimento_codigo',\n",
       "       'vacina_grupoAtendimento_nome', 'vacina_categoria_codigo',\n",
       "       'vacina_categoria_nome', 'vacina_lote', 'vacina_fabricante_nome',\n",
       "       'vacina_fabricante_referencia', 'vacina_dataAplicacao',\n",
       "       'vacina_descricao_dose', 'vacina_codigo', 'vacina_nome',\n",
       "       'sistema_origem'],\n",
       "      dtype='object')"
      ]
     },
     "execution_count": 211,
     "metadata": {},
     "output_type": "execute_result"
    }
   ],
   "source": [
    "# 2) Lista das colunas do DataFrame criado\n",
    "df_menor.columns"
   ]
  },
  {
   "cell_type": "code",
   "execution_count": 212,
   "metadata": {},
   "outputs": [
    {
     "data": {
      "text/plain": [
       "vacina_categoria_nome\n",
       "Faixa Etária                                      49015\n",
       "Povos Indígenas                                    4934\n",
       "Outros                                             3755\n",
       "Povos e Comunidades Tradicionais                    875\n",
       "Trabalhadores de Saúde                              264\n",
       "Comorbidades                                         58\n",
       "População Privada de Liberdade                       53\n",
       "Gestantes                                            47\n",
       "Trabalhadores da Educação                            14\n",
       "Trabalhadores de Transporte                          13\n",
       "Pessoas com Deficiência                              11\n",
       "Pessoas Institucionalizadas                           3\n",
       "Pessoas de 60 anos ou mais institucionalizadas        1\n",
       "Puérperas                                             1\n",
       "Name: count, dtype: int64"
      ]
     },
     "execution_count": 212,
     "metadata": {},
     "output_type": "execute_result"
    }
   ],
   "source": [
    "# 3) Contagem do campo 'vacina_categoria_nome' no DataFrame de menores\n",
    "df_menor['vacina_categoria_nome'].value_counts()"
   ]
  },
  {
   "cell_type": "code",
   "execution_count": 213,
   "metadata": {},
   "outputs": [],
   "source": [
    "# 4) Seleção das colunas referentes aos estabelecimentos\n",
    "lista_variaveis = ['estabelecimento_valor',\n",
    "       'estabelecimento_razaoSocial', 'estalecimento_noFantasia',\n",
    "       'estabelecimento_municipio_codigo', 'estabelecimento_municipio_nome',\n",
    "       'estabelecimento_uf']\n",
    "df_menor_lista = df_menor.loc[:,lista_variaveis]"
   ]
  },
  {
   "cell_type": "code",
   "execution_count": 214,
   "metadata": {},
   "outputs": [
    {
     "data": {
      "text/plain": [
       "(213, 6)"
      ]
     },
     "execution_count": 214,
     "metadata": {},
     "output_type": "execute_result"
    }
   ],
   "source": [
    "# 5) Selecione somente as colunas de estabelecimento do DataFrame de menores\n",
    "df_menor_lista = df_menor_lista.drop_duplicates()\n",
    "df_menor_lista.shape"
   ]
  },
  {
   "cell_type": "code",
   "execution_count": 215,
   "metadata": {},
   "outputs": [
    {
     "name": "stdout",
     "output_type": "stream",
     "text": [
      "DataFrame final com os estabelecimentos e a contagem de vacinas aplicadas a menores:\n",
      "     estabelecimento_valor                        estabelecimento_razaoSocial  \\\n",
      "0                  6917291                 PREFEITURA MUNICIPAL DE RIO BRANCO   \n",
      "1                  2000040                      PREFEITURA MUNICIPAL DE FEIJO   \n",
      "2                  7247435                      PREFEITURA MUNICIPAL DE SAUDE   \n",
      "3                  3810771                   PREFEITURA MUNICIPAL DE TARAUACA   \n",
      "4                  7625855  DISTRITO SANITARIO ESPECIAL INDIGENA ALTO RIO ...   \n",
      "..                     ...                                                ...   \n",
      "208                9846433              PREFEITURA MUNICIPAL DE MANOEL URBANO   \n",
      "209                2001357         SECRETARIA MUNICIPAL DE SAUDE DE BRASILEIA   \n",
      "210                 197599                 CENTRAL MUNICIPAL DE REDE DE FRIOS   \n",
      "211                6076017   ALERGOYMUNE CLINICA DE ALERGIA E IMUNIZACAO LTDA   \n",
      "212                6411312          PREFEITURA MUNICIPAL DE PLACIDO DE CASTRO   \n",
      "\n",
      "                              estalecimento_noFantasia  \\\n",
      "0    DEPARTAMENTO DE VIGILANCIA EPIDEMIOLOGICA E AM...   \n",
      "1                    CENTRO DE SAUDE DIAMANTINO MACEDO   \n",
      "2    UNIDADE DE SAUDE DA FAMILIA RAIMUNDO CELSO LIM...   \n",
      "3    UNIDADE DE S DA FAMILIA DR JOSE LEONCIO GOMES ...   \n",
      "4                    POLO BASE DE MARECHAL THAUMATURGO   \n",
      "..                                                 ...   \n",
      "208    UNIDADE BASICA DE SAUDE MILTON AUGUSTO DA SILVA   \n",
      "209                        ESF PEDRO OLIVEIRA DE SOUZA   \n",
      "210                 CENTRAL MUNICIPAL DE REDE DE FRIOS   \n",
      "211                                        ALERGOYMUNE   \n",
      "212                         U S F LUCIO ALVES DA SILVA   \n",
      "\n",
      "     estabelecimento_municipio_codigo estabelecimento_municipio_nome  \\\n",
      "0                              120040                     RIO BRANCO   \n",
      "1                              120030                          FEIJO   \n",
      "2                              120020                CRUZEIRO DO SUL   \n",
      "3                              120060                       TARAUACA   \n",
      "4                              120035           MARECHAL THAUMATURGO   \n",
      "..                                ...                            ...   \n",
      "208                            120034                  MANOEL URBANO   \n",
      "209                            120010                      BRASILEIA   \n",
      "210                            120020                CRUZEIRO DO SUL   \n",
      "211                            120040                     RIO BRANCO   \n",
      "212                            120038              PLACIDO DE CASTRO   \n",
      "\n",
      "    estabelecimento_uf  quantidade_vacinas_menores  \n",
      "0                   AC                       25593  \n",
      "1                   AC                        1184  \n",
      "2                   AC                         284  \n",
      "3                   AC                        3621  \n",
      "4                   AC                         433  \n",
      "..                 ...                         ...  \n",
      "208                 AC                           2  \n",
      "209                 AC                           4  \n",
      "210                 AC                           3  \n",
      "211                 AC                           1  \n",
      "212                 AC                           1  \n",
      "\n",
      "[213 rows x 7 columns]\n"
     ]
    }
   ],
   "source": [
    "# 6) Para conseguir o número de vacinas aplicadas por estabelecimento, vamos agrupar o DataFrame com os\n",
    "# registros de menores por um identificador único de estabelecimento\n",
    "contagem_por_estabelecimento = df_menor18.groupby('estabelecimento_valor').size().reset_index(name='quantidade_vacinas_menores')\n",
    "\n",
    "# Em seguida, vamos juntar os dados de contagem ao DataFrame de estabelecimentos únicos\n",
    "df_final = pd.merge(df_menor_lista, contagem_por_estabelecimento, on='estabelecimento_valor')\n",
    "\n",
    "print(\"DataFrame final com os estabelecimentos e a contagem de vacinas aplicadas a menores:\")\n",
    "print(df_final)"
   ]
  }
 ],
 "metadata": {
  "kernelspec": {
   "display_name": "Python [conda env:base] *",
   "language": "python",
   "name": "conda-base-py"
  },
  "language_info": {
   "codemirror_mode": {
    "name": "ipython",
    "version": 3
   },
   "file_extension": ".py",
   "mimetype": "text/x-python",
   "name": "python",
   "nbconvert_exporter": "python",
   "pygments_lexer": "ipython3",
   "version": "3.13.5"
  },
  "toc": {
   "base_numbering": 1,
   "nav_menu": {},
   "number_sections": false,
   "sideBar": true,
   "skip_h1_title": true,
   "title_cell": "Índice",
   "title_sidebar": "Conteúdo",
   "toc_cell": false,
   "toc_position": {},
   "toc_section_display": true,
   "toc_window_display": false
  },
  "varInspector": {
   "cols": {
    "lenName": 16,
    "lenType": 16,
    "lenVar": 40
   },
   "kernels_config": {
    "python": {
     "delete_cmd_postfix": "",
     "delete_cmd_prefix": "del ",
     "library": "var_list.py",
     "varRefreshCmd": "print(var_dic_list())"
    },
    "r": {
     "delete_cmd_postfix": ") ",
     "delete_cmd_prefix": "rm(",
     "library": "var_list.r",
     "varRefreshCmd": "cat(var_dic_list()) "
    }
   },
   "types_to_exclude": [
    "module",
    "function",
    "builtin_function_or_method",
    "instance",
    "_Feature"
   ],
   "window_display": false
  }
 },
 "nbformat": 4,
 "nbformat_minor": 4
}
